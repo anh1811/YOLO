{
  "nbformat": 4,
  "nbformat_minor": 0,
  "metadata": {
    "accelerator": "GPU",
    "colab": {
      "name": "yolov1.ipynb",
      "provenance": [],
      "collapsed_sections": [],
      "mount_file_id": "1IX9myUSvGin-Cq2z8oZ9Pyq8QagIR84x",
      "authorship_tag": "ABX9TyPQebzoKrQWpzF1TiFQlA6h",
      "include_colab_link": true
    },
    "kernelspec": {
      "display_name": "Python 3",
      "name": "python3"
    },
    "language_info": {
      "name": "python"
    }
  },
  "cells": [
    {
      "cell_type": "markdown",
      "metadata": {
        "id": "view-in-github",
        "colab_type": "text"
      },
      "source": [
        "<a href=\"https://colab.research.google.com/github/anh1811/YOLO/blob/main/yolov1.ipynb\" target=\"_parent\"><img src=\"https://colab.research.google.com/assets/colab-badge.svg\" alt=\"Open In Colab\"/></a>"
      ]
    },
    {
      "cell_type": "code",
      "metadata": {
        "colab": {
          "base_uri": "https://localhost:8080/"
        },
        "id": "aIP7aXkts5JT",
        "outputId": "8b373a87-bf71-4108-8234-744e1107551c"
      },
      "source": [
        "import matplotlib.pyplot as plt\n",
        "import torch \n",
        "import torch.nn as nn\n",
        "import torch.nn.functional as F \n",
        "from torch.autograd import Variable\n",
        "from IPython.display import Image, clear_output  # to display images\n",
        "import torchvision\n",
        "import pickle as pkl\n",
        "import numpy as np\n",
        "import os\n",
        "import cv2\n",
        "from torchvision import transforms\n",
        "clear_output()\n",
        "print(f\"Setup complete. Using torch {torch.__version__} ({torch.cuda.get_device_properties(0).name if torch.cuda.is_available() else 'CPU'})\")\n",
        "\n",
        "device = torch.device('cuda' if torch.cuda.is_available() else 'cpu')"
      ],
      "execution_count": 1,
      "outputs": [
        {
          "output_type": "stream",
          "text": [
            "Setup complete. Using torch 1.9.0+cu102 (Tesla T4)\n"
          ],
          "name": "stdout"
        }
      ]
    },
    {
      "cell_type": "code",
      "metadata": {
        "colab": {
          "base_uri": "https://localhost:8080/"
        },
        "id": "N8POzxzC6b5C",
        "outputId": "aeddfeb5-0ab4-4681-e8fe-6b5990ba1e45"
      },
      "source": [
        "from google.colab import drive\n",
        "drive.mount('/content/drive')"
      ],
      "execution_count": 2,
      "outputs": [
        {
          "output_type": "stream",
          "text": [
            "Drive already mounted at /content/drive; to attempt to forcibly remount, call drive.mount(\"/content/drive\", force_remount=True).\n"
          ],
          "name": "stdout"
        }
      ]
    },
    {
      "cell_type": "markdown",
      "metadata": {
        "id": "Qep2AkQ7OqYI"
      },
      "source": [
        "# **Dataset/Dataloader**"
      ]
    },
    {
      "cell_type": "code",
      "metadata": {
        "id": "XhfpUy_LPCl5"
      },
      "source": [
        "# #Load the VOC dataset\n",
        "# # !wget https://pjreddie.com/media/files/VOCtrainval_11-May-2012.tar\n",
        "# # !wget https://pjreddie.com/media/files/VOCtrainval_06-Nov-2007.tar\n",
        "# # !wget https://pjreddie.com/media/files/VOCtest_06-Nov-2007.tar\n",
        "# #let's just load it in content\n",
        "!cd /content/\n",
        "!tar xf /content/drive/MyDrive/Data/yolov1/data/VOCtrainval_11-May-2012.tar\n",
        "!tar xf /content/drive/MyDrive/Data/yolov1/data/VOCtrainval_06-Nov-2007.tar\n",
        "!tar xf /content/drive/MyDrive/Data/yolov1/data/VOCtest_06-Nov-2007.tar"
      ],
      "execution_count": 3,
      "outputs": []
    },
    {
      "cell_type": "code",
      "metadata": {
        "id": "Ai8RCs8MPYsJ",
        "colab": {
          "base_uri": "https://localhost:8080/"
        },
        "outputId": "bb231e67-30ec-4302-b7fc-144427cd8451"
      },
      "source": [
        "#transform the dataset\n",
        "# this code is stolen from YOLO:Darknet pjreddie.com\n",
        "!wget https://pjreddie.com/media/files/voc_label.py\n",
        "!python voc_label.py"
      ],
      "execution_count": 4,
      "outputs": [
        {
          "output_type": "stream",
          "text": [
            "--2021-08-13 07:22:18--  https://pjreddie.com/media/files/voc_label.py\n",
            "Resolving pjreddie.com (pjreddie.com)... 128.208.4.108\n",
            "Connecting to pjreddie.com (pjreddie.com)|128.208.4.108|:443... connected.\n",
            "HTTP request sent, awaiting response... 200 OK\n",
            "Length: 2042 (2.0K) [application/octet-stream]\n",
            "Saving to: ‘voc_label.py’\n",
            "\n",
            "\rvoc_label.py          0%[                    ]       0  --.-KB/s               \rvoc_label.py        100%[===================>]   1.99K  --.-KB/s    in 0s      \n",
            "\n",
            "2021-08-13 07:22:18 (458 MB/s) - ‘voc_label.py’ saved [2042/2042]\n",
            "\n"
          ],
          "name": "stdout"
        }
      ]
    },
    {
      "cell_type": "code",
      "metadata": {
        "id": "G-jBo9c0sq9U"
      },
      "source": [
        "#create data loader, dataset\n",
        "class DataSet(torch.utils.data.Dataset):\n",
        "  def __init__(self, path_img, path_txt, transform):\n",
        "    self.list_img = []\n",
        "    with open(path_img, 'r') as file:\n",
        "      self.list_img = [line.strip() for line in file]\n",
        "    self.transform = transform\n",
        "    self.path_img = path_img\n",
        "    self.path_txt = path_txt\n",
        "  \n",
        "  def __getitem__(self, i):\n",
        "    # test if the index is an int for slice:\n",
        "      #TODO \n",
        "    \n",
        "    img_path = self.list_img[i]\n",
        "    box_path = self.list_img[i].split('/')[-1][:-4] + '.txt'\n",
        "    \n",
        "    img = cv2.imread(img_path)\n",
        "    with open(os.path.join(self.path_txt, box_path), 'r') as file:\n",
        "      boxes = []\n",
        "      for line in file.readlines():\n",
        "        box = [float(a) for a in line.split(' ')]\n",
        "        boxes.append(box)\n",
        "    boxes = np.array(boxes)\n",
        "\n",
        "    sample = [img, boxes]\n",
        "    if self.transform:\n",
        "      sample = self.transform(sample)\n",
        "\n",
        "    return sample[0].float(), sample[1].float()\n",
        "  \n",
        "  def __len__(self):\n",
        "    return len(self.list_img)"
      ],
      "execution_count": 5,
      "outputs": []
    },
    {
      "cell_type": "code",
      "metadata": {
        "id": "pJNaydiCBilc"
      },
      "source": [
        "class Padding(object):\n",
        "    def __init__(self, inp_dim):\n",
        "        assert isinstance(inp_dim, (int, tuple))\n",
        "        self.inp_dim = inp_dim\n",
        "        \n",
        "    def __call__(self, sample):\n",
        "        img, boxes = sample[0], sample[1]\n",
        "        w, h = img.shape[1], img.shape[0]\n",
        "        scale = min(self.inp_dim/w, self.inp_dim/h)\n",
        "        \n",
        "        # one of this axis will have the same length as the inp_dim\n",
        "        w_new = int(w * scale)\n",
        "        h_new = int(h * scale)\n",
        "        img = cv2.resize(img, (w_new, h_new))\n",
        "        \n",
        "        #bring the box to the original dimensional\n",
        "        boxes[:,[1,3]] *= w\n",
        "        boxes[:,[2,4]] *= h\n",
        "        #rescale the box\n",
        "        boxes[:, 1:] *= scale\n",
        "        boxes[:, 1] += (self.inp_dim - w_new)//2\n",
        "        boxes[:, 2] += (self.inp_dim - h_new)//2\n",
        "\n",
        "        #rescale back the image\n",
        "        boxes[:, [1,3]] /= self.inp_dim\n",
        "        boxes[:, [2,4]] /= self.inp_dim\n",
        "        \n",
        "        #create a image that is full 128\n",
        "        image = np.full((self.inp_dim, self.inp_dim, 3), 128.)\n",
        "        #paste the img into the middle\n",
        "        image[(self.inp_dim - h_new)//2:(self.inp_dim - h_new)//2 + h_new, \n",
        "              (self.inp_dim - w_new)//2:(self.inp_dim - w_new)//2 + w_new,  :] = img\n",
        "        return image, boxes\n",
        "\n",
        "class ToTensor(object):\n",
        "    def __call__(self, sample):\n",
        "        image, rec = sample[0], sample[1]\n",
        "        to_tensor = transforms.ToTensor()\n",
        "        return to_tensor(image), to_tensor(rec)\n",
        "\n",
        "class Normalize(object):\n",
        "  def __init__(self, mean, std):\n",
        "    self.mean = mean\n",
        "    self.std = std\n",
        "  \n",
        "  def __call__(self, sample):\n",
        "   normalize = transforms.Normalize(mean = self.mean, std = self.std)\n",
        "   return normalize(sample[0]), sample[1]\n",
        "        "
      ],
      "execution_count": 6,
      "outputs": []
    },
    {
      "cell_type": "code",
      "metadata": {
        "id": "n-1WcjPSc85s"
      },
      "source": [
        "basic_transform = transforms.Compose([Padding(inp_dim = 448), \n",
        "                                      ToTensor(),\n",
        "                                      Normalize(mean = 0, std = 255.)])\n",
        "path_img = '/content/2007_train.txt'\n",
        "path_label = '/content/VOCdevkit/VOC2007/labels'\n",
        "dataset = DataSet(path_img=path_img, path_txt= path_label, transform=basic_transform)"
      ],
      "execution_count": 7,
      "outputs": []
    },
    {
      "cell_type": "code",
      "metadata": {
        "id": "rg8_i1udgvY-",
        "colab": {
          "base_uri": "https://localhost:8080/",
          "height": 305
        },
        "outputId": "e73682ee-b222-4734-8d5e-bd07e683fba7"
      },
      "source": [
        "img = dataset[1][0].cpu().numpy()\n",
        "img = np.ascontiguousarray(np.transpose(img, (1,2,0))) \n",
        "img_attri = dataset[1][1].squeeze(0)\n",
        "for i in range(img_attri.size(0)):\n",
        "  attri = img_attri[i]\n",
        "  label = \"{0}\".format(attri[0])\n",
        "  box = attri[1:]\n",
        "  box *= 448\n",
        "  box = torchvision.ops.box_convert(box, 'cxcywh', 'xyxy')\n",
        "  box = box.numpy()\n",
        "  xmin ,ymin, xmax, ymax = box\n",
        "  #bug issues: rectangle return Umat type if np.array is not contiguous \n",
        "  img = cv2.rectangle(img, (int(xmin), int(ymin)), (int(xmax), int(ymax)), (255,0,255), 3)\n",
        "  t_size = cv2.getTextSize(label, cv2.FONT_HERSHEY_PLAIN, 1, 1)[0]\n",
        "  img = cv2.rectangle(img, (int(xmin), int(ymin)), (int(xmin)+ t_size[0] + 3, int(ymin) +t_size[1] + 4)\n",
        "                                ,(255,0,0), 1)\n",
        "  img = cv2.putText(img, label, (int(xmin), int(ymin) + t_size[1] + 4), \n",
        "                              cv2.FONT_HERSHEY_PLAIN, 1, [225,255,255], 2)\n",
        "plt.imshow(img)"
      ],
      "execution_count": 8,
      "outputs": [
        {
          "output_type": "stream",
          "text": [
            "Clipping input data to the valid range for imshow with RGB data ([0..1] for floats or [0..255] for integers).\n"
          ],
          "name": "stderr"
        },
        {
          "output_type": "execute_result",
          "data": {
            "text/plain": [
              "<matplotlib.image.AxesImage at 0x7f14c8786550>"
            ]
          },
          "metadata": {
            "tags": []
          },
          "execution_count": 8
        },
        {
          "output_type": "display_data",
          "data": {
            "image/png": "[encoded data removed]",
            "text/plain": [
              "<Figure size 432x288 with 1 Axes>"
            ]
          },
          "metadata": {
            "tags": [],
            "needs_background": "light"
          }
        }
      ]
    },
    {
      "cell_type": "code",
      "metadata": {
        "id": "9LJ74iZUOcVp"
      },
      "source": [
        "def my_collate(batch):\n",
        "    tensor_image = batch[0][0]\n",
        "    for image,_ in batch[1:]:\n",
        "      tensor_image = torch.cat((tensor_image,image), 0)\n",
        "    rectangle = [item[1] for item in batch]\n",
        "    tensor_image = tensor_image.view(-1,3,448,448).contiguous()\n",
        "    return [tensor_image, rectangle]\n",
        "\n",
        "train_loader = torch.utils.data.DataLoader(dataset=dataset,\n",
        "                                           collate_fn=my_collate,\n",
        "                                            batch_size=64, \n",
        "                                           shuffle=True,\n",
        "                                          pin_memory=True)"
      ],
      "execution_count": 9,
      "outputs": []
    },
    {
      "cell_type": "code",
      "metadata": {
        "id": "jEuwBLRXPRC4"
      },
      "source": [
        "data_iter = iter(train_loader)\n",
        "frame = next(data_iter)"
      ],
      "execution_count": 10,
      "outputs": []
    },
    {
      "cell_type": "markdown",
      "metadata": {
        "id": "WMCrfShpjUnL"
      },
      "source": [
        "# **Model**"
      ]
    },
    {
      "cell_type": "code",
      "metadata": {
        "id": "_1kc4Zuo7bWr",
        "colab": {
          "base_uri": "https://localhost:8080/"
        },
        "outputId": "133deac1-20e8-4e8c-efaa-63d56f29044d"
      },
      "source": [
        "# creat model\n",
        "folder_dir = '/content/drive/MyDrive/Data/yolov1' \n",
        "os.makedirs('/content/drive/MyDrive/Data/yolov1', exist_ok=True)\n",
        "# %cd /content/drive/MyDrive/Data/yolov1/\n",
        "# # %mkdir cfg\n",
        "%cd /content/drive/MyDrive/Data/yolov1/cfg/\n",
        "# !wget https://raw.githubusercontent.com/pjreddie/darknet/master/cfg/yolov1-tiny.cfg"
      ],
      "execution_count": 11,
      "outputs": [
        {
          "output_type": "stream",
          "text": [
            "/content/drive/MyDrive/Data/yolov1/cfg\n"
          ],
          "name": "stdout"
        }
      ]
    },
    {
      "cell_type": "code",
      "metadata": {
        "id": "5UIUiZmA-_Mk"
      },
      "source": [
        "def parsefile(file):\n",
        "    #read config file and return a list of dictionary \n",
        "    config = open(file, 'r')\n",
        "    lines = config.read().split('\\n')\n",
        "    lines = [x for x in lines if len(x) != 0]\n",
        "    lines = [x for x in lines if x[0] != '#']\n",
        "    lines = [x.strip() for x in lines] \n",
        "    \n",
        "    block = {}\n",
        "    blocks = []\n",
        "\n",
        "    for line in lines:\n",
        "        if line[0] == '[':\n",
        "            if len(block) != 0:\n",
        "                blocks.append(block)\n",
        "                block = {}\n",
        "            block['type'] = line[1:-1].rstrip()\n",
        "        else:\n",
        "            key, value = line.split('=')\n",
        "            block[key.rstrip()] = value.lstrip()\n",
        "    blocks.append(block)\n",
        "    return blocks      "
      ],
      "execution_count": 12,
      "outputs": []
    },
    {
      "cell_type": "markdown",
      "metadata": {
        "id": "u-CUWshCjipg"
      },
      "source": [
        "First i want to create FastYolo model"
      ]
    },
    {
      "cell_type": "code",
      "metadata": {
        "id": "l7zGKbKT3dYS"
      },
      "source": [
        "def building_fast_yolo(blocks):\n",
        "    # building model from block \n",
        "    # parameters = blocks \n",
        "    \n",
        "    #model info\n",
        "    net_info = blocks[0]\n",
        "    list_module = nn.ModuleList()\n",
        "    input_size = 3\n",
        "    output_filters = []\n",
        "    for i, block in enumerate(blocks[1:]):\n",
        "        module = nn.Sequential() #convol module can have a lot of layer\n",
        "        \n",
        "        #convolutional layer\n",
        "        if block['type'] == 'convolutional':\n",
        "            # is there batch_normalize \n",
        "            try:\n",
        "                batch_normalize = int(block['batch_normalize'])\n",
        "                bias = False\n",
        "            except:\n",
        "                batch_normalize = 0\n",
        "                bias = True\n",
        "            \n",
        "            # arguments for conv2d\n",
        "            output_size = int(block['filters'])\n",
        "            kernel_size = int(block['size'])\n",
        "            stride = int(block['stride'])\n",
        "            pad = int(block['pad'])\n",
        "\n",
        "            if pad:\n",
        "                padding = (kernel_size - 1) // 2\n",
        "            else:\n",
        "                padding = 0\n",
        "            conv = nn.Conv2d(input_size, output_size, kernel_size = kernel_size, stride = stride, padding = padding,\n",
        "                            bias = bias)\n",
        "            module.add_module('conv_{}'.format(i), conv)\n",
        "            \n",
        "            #perform batch_normalize\n",
        "            if batch_normalize:\n",
        "                batchnorm = nn.BatchNorm2d(output_size)\n",
        "                module.add_module('batchnorm_{}'.format(i), batchnorm)\n",
        "            \n",
        "            #perform activation function\n",
        "            activation_func = block['activation']\n",
        "            if activation_func == 'leaky':\n",
        "                leaky = nn.LeakyReLU(0.1, inplace = True)\n",
        "                module.add_module('leaky_{}'.format(i), leaky)\n",
        "        \n",
        "        #maxpool\n",
        "        elif block['type'] == 'maxpool':\n",
        "            stride = int(block['stride'])\n",
        "            size = int(block['size'])\n",
        "            maxpool = nn.MaxPool2d(size, stride=stride)\n",
        "            module.add_module('maxpool_{}'.format(i), maxpool)\n",
        "        \n",
        "        \n",
        "        # #dropout\n",
        "        # elif block['type'] == 'dropout':\n",
        "        #     prob = float(block['probability'])\n",
        "        #     dropout = nn.Dropout2d(prob)\n",
        "        #     module.add_module('dropout_{}'.format(i), dropout)\n",
        "        \n",
        "        #connected\n",
        "        elif block['type'] == 'connected':\n",
        "          output_size = int(block['output'])\n",
        "          flatten = nn.Flatten()\n",
        "          module.add_module('flatten_{}'.format(i), flatten)\n",
        "          input_size *= 49\n",
        "          activation_func = block['activation']\n",
        "          fc = nn.Linear(input_size, output_size)\n",
        "          module.add_module('fc_{}'.format(i), fc)\n",
        "        \n",
        "        elif block['type'] == 'detection':\n",
        "            detection =  EmptyLayer()\n",
        "            module.add_module(\"Detection_{}\".format(i), detection)\n",
        "        \n",
        "        output_filters.append(output_size)\n",
        "        list_module.append(module)\n",
        "        input_size = output_size\n",
        "    return (net_info, list_module)\n",
        "\n",
        "\n",
        "class EmptyLayer(nn.Module):\n",
        "    def __init__(self):\n",
        "        super(EmptyLayer, self).__init__()"
      ],
      "execution_count": 13,
      "outputs": []
    },
    {
      "cell_type": "code",
      "metadata": {
        "id": "f7Qbvjix_Ipm",
        "colab": {
          "base_uri": "https://localhost:8080/"
        },
        "outputId": "33c9a91c-56d8-4839-aaf8-3f9c6e3b8ce6"
      },
      "source": [
        "file = parsefile('yolov1-tiny.cfg.1')\n",
        "building_fast_yolo(file)[1]"
      ],
      "execution_count": 14,
      "outputs": [
        {
          "output_type": "execute_result",
          "data": {
            "text/plain": [
              "ModuleList(\n",
              "  (0): Sequential(\n",
              "    (conv_0): Conv2d(3, 16, kernel_size=(3, 3), stride=(1, 1), padding=(1, 1), bias=False)\n",
              "    (batchnorm_0): BatchNorm2d(16, eps=1e-05, momentum=0.1, affine=True, track_running_stats=True)\n",
              "    (leaky_0): LeakyReLU(negative_slope=0.1, inplace=True)\n",
              "  )\n",
              "  (1): Sequential(\n",
              "    (maxpool_1): MaxPool2d(kernel_size=2, stride=2, padding=0, dilation=1, ceil_mode=False)\n",
              "  )\n",
              "  (2): Sequential(\n",
              "    (conv_2): Conv2d(16, 32, kernel_size=(3, 3), stride=(1, 1), padding=(1, 1), bias=False)\n",
              "    (batchnorm_2): BatchNorm2d(32, eps=1e-05, momentum=0.1, affine=True, track_running_stats=True)\n",
              "    (leaky_2): LeakyReLU(negative_slope=0.1, inplace=True)\n",
              "  )\n",
              "  (3): Sequential(\n",
              "    (maxpool_3): MaxPool2d(kernel_size=2, stride=2, padding=0, dilation=1, ceil_mode=False)\n",
              "  )\n",
              "  (4): Sequential(\n",
              "    (conv_4): Conv2d(32, 64, kernel_size=(3, 3), stride=(1, 1), padding=(1, 1), bias=False)\n",
              "    (batchnorm_4): BatchNorm2d(64, eps=1e-05, momentum=0.1, affine=True, track_running_stats=True)\n",
              "    (leaky_4): LeakyReLU(negative_slope=0.1, inplace=True)\n",
              "  )\n",
              "  (5): Sequential(\n",
              "    (maxpool_5): MaxPool2d(kernel_size=2, stride=2, padding=0, dilation=1, ceil_mode=False)\n",
              "  )\n",
              "  (6): Sequential(\n",
              "    (conv_6): Conv2d(64, 128, kernel_size=(3, 3), stride=(1, 1), padding=(1, 1), bias=False)\n",
              "    (batchnorm_6): BatchNorm2d(128, eps=1e-05, momentum=0.1, affine=True, track_running_stats=True)\n",
              "    (leaky_6): LeakyReLU(negative_slope=0.1, inplace=True)\n",
              "  )\n",
              "  (7): Sequential(\n",
              "    (maxpool_7): MaxPool2d(kernel_size=2, stride=2, padding=0, dilation=1, ceil_mode=False)\n",
              "  )\n",
              "  (8): Sequential(\n",
              "    (conv_8): Conv2d(128, 256, kernel_size=(3, 3), stride=(1, 1), padding=(1, 1), bias=False)\n",
              "    (batchnorm_8): BatchNorm2d(256, eps=1e-05, momentum=0.1, affine=True, track_running_stats=True)\n",
              "    (leaky_8): LeakyReLU(negative_slope=0.1, inplace=True)\n",
              "  )\n",
              "  (9): Sequential(\n",
              "    (maxpool_9): MaxPool2d(kernel_size=2, stride=2, padding=0, dilation=1, ceil_mode=False)\n",
              "  )\n",
              "  (10): Sequential(\n",
              "    (conv_10): Conv2d(256, 512, kernel_size=(3, 3), stride=(1, 1), padding=(1, 1), bias=False)\n",
              "    (batchnorm_10): BatchNorm2d(512, eps=1e-05, momentum=0.1, affine=True, track_running_stats=True)\n",
              "    (leaky_10): LeakyReLU(negative_slope=0.1, inplace=True)\n",
              "  )\n",
              "  (11): Sequential(\n",
              "    (maxpool_11): MaxPool2d(kernel_size=2, stride=2, padding=0, dilation=1, ceil_mode=False)\n",
              "  )\n",
              "  (12): Sequential(\n",
              "    (conv_12): Conv2d(512, 1024, kernel_size=(3, 3), stride=(1, 1), padding=(1, 1), bias=False)\n",
              "    (batchnorm_12): BatchNorm2d(1024, eps=1e-05, momentum=0.1, affine=True, track_running_stats=True)\n",
              "    (leaky_12): LeakyReLU(negative_slope=0.1, inplace=True)\n",
              "  )\n",
              "  (13): Sequential(\n",
              "    (conv_13): Conv2d(1024, 256, kernel_size=(3, 3), stride=(1, 1), padding=(1, 1), bias=False)\n",
              "    (batchnorm_13): BatchNorm2d(256, eps=1e-05, momentum=0.1, affine=True, track_running_stats=True)\n",
              "    (leaky_13): LeakyReLU(negative_slope=0.1, inplace=True)\n",
              "  )\n",
              "  (14): Sequential(\n",
              "    (flatten_14): Flatten(start_dim=1, end_dim=-1)\n",
              "    (fc_14): Linear(in_features=12544, out_features=1470, bias=True)\n",
              "  )\n",
              "  (15): Sequential(\n",
              "    (Detection_15): EmptyLayer()\n",
              "  )\n",
              ")"
            ]
          },
          "metadata": {
            "tags": []
          },
          "execution_count": 14
        }
      ]
    },
    {
      "cell_type": "code",
      "metadata": {
        "id": "2l7s7WEqHXHL"
      },
      "source": [
        "class Darknetbase(nn.Module):\n",
        "  def __init__(self, file, use_fc = False):\n",
        "    super(Darknetbase, self).__init__()\n",
        "    self.blocks = parsefile(file)\n",
        "    self.features = building_fast_yolo(self.blocks)[1][:-2]\n",
        "    self.use_fc = use_fc\n",
        "    if use_fc:\n",
        "      self.fc = self.features.append(\n",
        "          nn.Sequential(\n",
        "              nn.AvgPool2d(7),\n",
        "              nn.Conv2d(1024, 1000, 1, 1, padding = 0),\n",
        "              nn.Softmax2d()\n",
        "          )\n",
        "      )  \n",
        "\n",
        "  def forward(self, x):\n",
        "    for module in self.features:\n",
        "      x = module(x)\n",
        "    if self.use_fc:\n",
        "      x = self.fc(x)\n",
        "  \n",
        "  def _initialize_weights(self):\n",
        "        for m in self.features:\n",
        "            if isinstance(m, nn.Conv2d):\n",
        "                nn.init.kaiming_normal_(m.weight, mode='fan_in', nonlinearity='leaky_relu')\n",
        "                if m.bias is not None:\n",
        "                    nn.init.constant_(m.bias, 0)\n",
        "            elif isinstance(m, nn.BatchNorm2d):\n",
        "                nn.init.constant_(m.weight, 1)\n",
        "                nn.init.constant_(m.bias, 0)\n",
        "            elif isinstance(m, nn.Linear):\n",
        "                nn.init.normal_(m.weight, 0, 0.01)\n",
        "                nn.init.constant_(m.bias, 0)\n",
        "  \n",
        "  # def load_weight(self, weightfile):\n",
        "  #       with open (weightfile, 'rb') as file:\n",
        "  #           # #read the head first which include 5 32-int values\n",
        "  #           # # information about the head file @@\n",
        "  #           # header = np.fromfile(file, dtype = np.int32, count = 4)\n",
        "  #           # self.header = torch.from_numpy(header)\n",
        "  #           # self.seen = self.header[2] #number of images seen by the network during training\n",
        "            \n",
        "  #           #the rest is the weight of the model\n",
        "  #           weights = np.fromfile(file, dtype = np.float32)\n",
        "  #           print(weights.shape)\n",
        "  #           modules = self.blocks[1 : -2]\n",
        "  #           pr = 0\n",
        "  #           for i,module in enumerate(modules):\n",
        "  #               module_type = module['type']\n",
        "  #               if module_type == 'convolutional':\n",
        "  #                   model = self.features[i]\n",
        "  #                   #check if there is a batchnorm\n",
        "  #                   try:\n",
        "  #                       batch_norm = int(module['batch_normalize'])\n",
        "  #                   except:\n",
        "  #                       batch_norm = 0\n",
        "                    \n",
        "  #                   conv_layer = model[0]\n",
        "  #                   # weight for batch_normalisation include : bias, weight, running means and running vals\n",
        "  #                   if batch_norm:\n",
        "  #                       batch_layer = model[1]\n",
        "  #                       layer_size = batch_layer.bias.numel()\n",
        "                        \n",
        "  #                       #bias \n",
        "  #                       bias = torch.from_numpy(weights[pr:pr + layer_size]).view_as(batch_layer.bias)\n",
        "  #                       batch_layer.bias.data.copy_(bias)\n",
        "  #                       pr += layer_size\n",
        "                        \n",
        "  #                       #weight\n",
        "  #                       weight = torch.from_numpy(weights[pr:pr + layer_size]).view_as(batch_layer.weight)\n",
        "  #                       batch_layer.weight.data.copy_(weight)\n",
        "  #                       pr += layer_size\n",
        "                        \n",
        "  #                       #running_mean\n",
        "  #                       mean = torch.from_numpy(weights[pr:pr + layer_size]).view_as(batch_layer.running_mean)\n",
        "  #                       batch_layer.running_mean.copy_(mean)\n",
        "  #                       pr += layer_size\n",
        "                        \n",
        "  #                       #running_val\n",
        "  #                       var = torch.from_numpy(weights[pr:pr + layer_size]).view_as(batch_layer.running_var)\n",
        "  #                       batch_layer.running_var.data.copy_(var)\n",
        "  #                       pr += layer_size\n",
        "  #                   else:\n",
        "  #                       #load the bias for conv\n",
        "  #                       layer_size = conv_layer.bias.numel()\n",
        "  #                       bias = torch.from_numpy(weights[pr:pr + layer_size]).view_as(conv_layer.bias)\n",
        "  #                       conv_layer.bias.data.copy_(bias)\n",
        "  #                       pr += layer_size\n",
        "                    \n",
        "  #                   # load weight file for conv\n",
        "  #                   num_weight = conv_layer.weight.numel()\n",
        "  #                   weight = torch.from_numpy(weights[pr:pr + num_weight]).view_as(conv_layer.weight)\n",
        "  #                   conv_layer.weight.data.copy_(weight)\n",
        "  #                   pr += num_weight\n",
        "\n",
        "\n",
        "  #           model = self.features[-1]\n",
        "  #           num_bias = model.bias.numel()\n",
        "  #           bias = torch.from_numpy(weights[pr: pr + num_bias]).view_as(model.bias)\n",
        "  #           model.bias.data.copy_(bias)\n",
        "  #           pr += num_bias\n",
        "\n",
        "  #           num_weight = model.weight.numel()\n",
        "  #           weight = torch.from_numpy(weights[pr: pr + num_weight]).view_as(model.weight)\n",
        "  #           model.weight.data.copy_(weight)\n",
        "  #           pr += num_weight\n",
        "  #           print(weights[pr:])\n",
        "            \n",
        "              \n",
        "              "
      ],
      "execution_count": 15,
      "outputs": []
    },
    {
      "cell_type": "code",
      "metadata": {
        "id": "JUVa2TL7Z1Vu"
      },
      "source": [
        "from prettytable import PrettyTable\n",
        "\n",
        "def count_parameters(model):\n",
        "    table = PrettyTable([\"Modules\", \"Parameters\"])\n",
        "    total_params = 0\n",
        "    for name, parameter in model.named_parameters():\n",
        "        if not parameter.requires_grad: continue\n",
        "        param = parameter.numel()\n",
        "        table.add_row([name, param])\n",
        "        total_params+=param\n",
        "    print(table)\n",
        "    print(f\"Total Trainable Params: {total_params}\")\n",
        "    return total_params"
      ],
      "execution_count": 16,
      "outputs": []
    },
    {
      "cell_type": "code",
      "metadata": {
        "colab": {
          "base_uri": "https://localhost:8080/"
        },
        "id": "Nlsjxi_yO-8B",
        "outputId": "bdf349a0-2305-4d16-d1ea-1a8cb776d824"
      },
      "source": [
        "# !wget https://raw.githubusercontent.com/pjreddie/darknet/master/cfg/darknet.cfg\n",
        "# !wget http://pjreddie.com/media/files/darknet.conv.weights\n",
        "Darknet = Darknetbase('yolov1-tiny.cfg.1', use_fc = False)\n",
        "count_parameters(Darknet)\n",
        "# Darknet.features\n",
        "# Darknet.load_weight('darknet.weights')\n",
        "  "
      ],
      "execution_count": 17,
      "outputs": [
        {
          "output_type": "stream",
          "text": [
            "+---------------------------------+------------+\n",
            "|             Modules             | Parameters |\n",
            "+---------------------------------+------------+\n",
            "|     features.0.conv_0.weight    |    432     |\n",
            "|  features.0.batchnorm_0.weight  |     16     |\n",
            "|   features.0.batchnorm_0.bias   |     16     |\n",
            "|     features.2.conv_2.weight    |    4608    |\n",
            "|  features.2.batchnorm_2.weight  |     32     |\n",
            "|   features.2.batchnorm_2.bias   |     32     |\n",
            "|     features.4.conv_4.weight    |   18432    |\n",
            "|  features.4.batchnorm_4.weight  |     64     |\n",
            "|   features.4.batchnorm_4.bias   |     64     |\n",
            "|     features.6.conv_6.weight    |   73728    |\n",
            "|  features.6.batchnorm_6.weight  |    128     |\n",
            "|   features.6.batchnorm_6.bias   |    128     |\n",
            "|     features.8.conv_8.weight    |   294912   |\n",
            "|  features.8.batchnorm_8.weight  |    256     |\n",
            "|   features.8.batchnorm_8.bias   |    256     |\n",
            "|    features.10.conv_10.weight   |  1179648   |\n",
            "| features.10.batchnorm_10.weight |    512     |\n",
            "|  features.10.batchnorm_10.bias  |    512     |\n",
            "|    features.12.conv_12.weight   |  4718592   |\n",
            "| features.12.batchnorm_12.weight |    1024    |\n",
            "|  features.12.batchnorm_12.bias  |    1024    |\n",
            "|    features.13.conv_13.weight   |  2359296   |\n",
            "| features.13.batchnorm_13.weight |    256     |\n",
            "|  features.13.batchnorm_13.bias  |    256     |\n",
            "+---------------------------------+------------+\n",
            "Total Trainable Params: 8654224\n"
          ],
          "name": "stdout"
        },
        {
          "output_type": "execute_result",
          "data": {
            "text/plain": [
              "8654224"
            ]
          },
          "metadata": {
            "tags": []
          },
          "execution_count": 17
        }
      ]
    },
    {
      "cell_type": "code",
      "metadata": {
        "id": "8dFtEi1zcUSk"
      },
      "source": [
        "# for name, param in Darknet.named_parameters():\n",
        "#     if param.requires_grad and name == 'features.0.conv_0.weight':\n",
        "#         print ('{} {}'.format(name, param.data))"
      ],
      "execution_count": 18,
      "outputs": []
    },
    {
      "cell_type": "code",
      "metadata": {
        "colab": {
          "base_uri": "https://localhost:8080/"
        },
        "id": "2CncOyKb0NQc",
        "outputId": "179ff423-16af-4710-9ec0-a6f29dfefcdd"
      },
      "source": [
        "with open('darknet.weights', 'rb') as file:\n",
        "  weight = np.fromfile(file, dtype = np.float32)\n",
        "  print(weight.shape)"
      ],
      "execution_count": 19,
      "outputs": [
        {
          "output_type": "stream",
          "text": [
            "(7323484,)\n"
          ],
          "name": "stdout"
        }
      ]
    },
    {
      "cell_type": "code",
      "metadata": {
        "id": "NOKV7-NF8qOQ"
      },
      "source": [
        "class YOLOV1tiny(nn.Module):\n",
        "  def __init__(self, file, features):\n",
        "      super(YOLOV1tiny, self).__init__()\n",
        "      self.blocks = parsefile(file)\n",
        "      self.net_info, self.module_list = building_fast_yolo(self.blocks)\n",
        "      self.inp_dims = int(self.net_info['height'])\n",
        "      detection_layer = self.blocks[-1]\n",
        "      self.grid_size = int(detection_layer['side'])\n",
        "      self.num_classes = int(detection_layer['classes'])\n",
        "      self.num_box = int(detection_layer['num'])\n",
        "      if features:\n",
        "        for i, module in enumerate(features):\n",
        "          self.module_list[i] = module\n",
        "      self.float().to(device)\n",
        "  \n",
        "  def forward(self, x, CUDA):\n",
        "    \n",
        "    x = x.to(device)\n",
        "    for i, module in enumerate(self.blocks[1:]):\n",
        "      module_type = module['type']\n",
        "      if module_type == 'detection':\n",
        "        batch_size = x.size(0)\n",
        "        detection = x.view(batch_size, self.num_box * 5 + self.num_classes, self.grid_size, self.grid_size)\n",
        "      else:\n",
        "         x = self.module_list[i](x)\n",
        "    return detection"
      ],
      "execution_count": 20,
      "outputs": []
    },
    {
      "cell_type": "code",
      "metadata": {
        "id": "kRzJxL5-_5P1",
        "colab": {
          "base_uri": "https://localhost:8080/"
        },
        "outputId": "a14b146b-caeb-40fb-a90c-4784a5aaaba8"
      },
      "source": [
        "model = YOLOV1tiny('yolov1-tiny.cfg.1', Darknet.features)\n",
        "count_parameters(model)"
      ],
      "execution_count": 21,
      "outputs": [
        {
          "output_type": "stream",
          "text": [
            "+------------------------------------+------------+\n",
            "|              Modules               | Parameters |\n",
            "+------------------------------------+------------+\n",
            "|    module_list.0.conv_0.weight     |    432     |\n",
            "|  module_list.0.batchnorm_0.weight  |     16     |\n",
            "|   module_list.0.batchnorm_0.bias   |     16     |\n",
            "|    module_list.2.conv_2.weight     |    4608    |\n",
            "|  module_list.2.batchnorm_2.weight  |     32     |\n",
            "|   module_list.2.batchnorm_2.bias   |     32     |\n",
            "|    module_list.4.conv_4.weight     |   18432    |\n",
            "|  module_list.4.batchnorm_4.weight  |     64     |\n",
            "|   module_list.4.batchnorm_4.bias   |     64     |\n",
            "|    module_list.6.conv_6.weight     |   73728    |\n",
            "|  module_list.6.batchnorm_6.weight  |    128     |\n",
            "|   module_list.6.batchnorm_6.bias   |    128     |\n",
            "|    module_list.8.conv_8.weight     |   294912   |\n",
            "|  module_list.8.batchnorm_8.weight  |    256     |\n",
            "|   module_list.8.batchnorm_8.bias   |    256     |\n",
            "|   module_list.10.conv_10.weight    |  1179648   |\n",
            "| module_list.10.batchnorm_10.weight |    512     |\n",
            "|  module_list.10.batchnorm_10.bias  |    512     |\n",
            "|   module_list.12.conv_12.weight    |  4718592   |\n",
            "| module_list.12.batchnorm_12.weight |    1024    |\n",
            "|  module_list.12.batchnorm_12.bias  |    1024    |\n",
            "|   module_list.13.conv_13.weight    |  2359296   |\n",
            "| module_list.13.batchnorm_13.weight |    256     |\n",
            "|  module_list.13.batchnorm_13.bias  |    256     |\n",
            "|    module_list.14.fc_14.weight     |  18439680  |\n",
            "|     module_list.14.fc_14.bias      |    1470    |\n",
            "+------------------------------------+------------+\n",
            "Total Trainable Params: 27095374\n"
          ],
          "name": "stdout"
        },
        {
          "output_type": "execute_result",
          "data": {
            "text/plain": [
              "27095374"
            ]
          },
          "metadata": {
            "tags": []
          },
          "execution_count": 21
        }
      ]
    },
    {
      "cell_type": "code",
      "metadata": {
        "id": "-rfBEkra9LVA"
      },
      "source": [
        "# !wget https://pjreddie.com/media/files/yolov1/tiny-yolov1.weights\n",
        "# model.load_weight('tiny-yolov1.weights') #wrong"
      ],
      "execution_count": 22,
      "outputs": []
    },
    {
      "cell_type": "markdown",
      "metadata": {
        "id": "JB7_t8qtxfBr"
      },
      "source": [
        "# **Loss**"
      ]
    },
    {
      "cell_type": "code",
      "metadata": {
        "id": "86EcO6715Iy5"
      },
      "source": [
        "def loss_functionv1(pre, target, inp_dims, grid_size, num_classes, num_box):\n",
        "  #loss_functionv1 use only the prediction in each grid cell of the image, \n",
        "  # for each grid cell there can only one object with one class\n",
        "  \n",
        "  # pre(Batch x (num_box*5+num_classes)x grid x grid))\n",
        "  batch_size = pre.size()[0] #\n",
        "  #transform into (batchx(grid^2x)x(nm_classes + 5 *numbox)\n",
        "  pre = pre.view(batch_size, -1, grid_size*grid_size)\n",
        "  pre = pre.transpose(2,1).contiguous()\n",
        "\n",
        "  #define loss\n",
        "  loss_class = nn.CrossEntropyLoss(reduction = 'sum')\n",
        "  loss_box = nn.MSELoss(reduction = 'sum')\n",
        "  loss_obj = nn.MSELoss(reduction = 'sum')\n",
        "\n",
        "  #target list each element is a list of tensor 1 x num_obj x [1(class) + obj_attribute]]\n",
        "  lclas = 0\n",
        "  lobj = 0\n",
        "  lbox = 0\n",
        "  for i in range(batch_size): \n",
        "    # for each image\n",
        "    # create a array with size of number_grid to indicate whether the grid have obj \n",
        "    is_obj = torch.zeros((grid_size*grid_size)).to(device)\n",
        "    \n",
        "    # this label for the img\n",
        "    img = target[i].squeeze(0).to(device) #num_objx5\n",
        "    num_obj = img.size(0) \n",
        "    \n",
        "    # index will be the obj's index + 1 if it has obj else 0 \n",
        "    for j in range(num_obj):\n",
        "      obj = img[j] #5\n",
        "      is_obj[int(obj[1]*grid_size) + grid_size * int(obj[2]*grid_size)] = j+1 \n",
        "    \n",
        "    predict = pre[i] #(grid*gridx30)    \n",
        "    os_tar = []\n",
        "    os_pre = []\n",
        "    for grid in range(grid_size*grid_size):\n",
        "      index = int(is_obj[grid])\n",
        "      cell = predict[grid] #(30)\n",
        "      boxes = cell[:(5*num_box)].view(-1,5) #(2,5)\n",
        "      class_pre = cell[(5*num_box):].unsqueeze(0) #(1,20)\n",
        "      #if there is a obj in grid\n",
        "      if index:\n",
        "        obj = img[index - 1] #5\n",
        "        class_tar = obj[0].unsqueeze(0).long() #size(1)\n",
        "        lclas += loss_class(class_pre, class_tar)\n",
        "    \n",
        "        # two box vs their ground truth box\n",
        "        \n",
        "        # transform the ground_truth_box\n",
        "        gt_box = box_for_loss(obj[1:], grid).unsqueeze(0).to(device) #(1,4)\n",
        "        gt_box = torchvision.ops.box_convert(gt_box, 'cxcywh', 'xyxy')\n",
        "        pre_box = torchvision.ops.box_convert(boxes[:,0:4], 'cxcywh', 'xyxy') #(2,4)\n",
        "        box_iou = torchvision.ops.box_iou(pre_box, gt_box)   #(2,1)\n",
        "        \n",
        "        # value and indice of the box with the highest iou\n",
        "        # the iou is the confidence score target\n",
        "        os, index_obj = torch.max(box_iou, 0) #1,1\n",
        "        os_tar.extend(os)\n",
        "        os_pre.extend(boxes[index_obj, 4])\n",
        "\n",
        "        # loss for the x,y and height, width with the box resposible\n",
        "        box_obj = boxes[index_obj]\n",
        "        lbox += loss_box(box_obj[:,0:2], gt_box[:,0:2]) \n",
        "        lbox += loss_box(torch.square(box_obj[:,2:4]),torch.square(gt_box[:,2:4]))\n",
        "        \n",
        "        # loss for box coordinate for box not responsible\n",
        "        index_nobj = (torch.arange(num_box).to(device) != index_obj).nonzero(as_tuple=True)[0]\n",
        "        os_box_nobj = boxes[index_nobj, 4]\n",
        "        lobj += 0.5 * loss_obj(os_box_nobj, torch.zeros((os_box_nobj.size())).to(device))\n",
        "\n",
        "      else:\n",
        "        # grid with no object\n",
        "        os_box_nobj = boxes[:, 4] #2,4\n",
        "        lobj += 0.5 * loss_obj(os_box_nobj, torch.zeros((os_box_nobj.size())).to(device))\n",
        "    lobj += loss_obj(torch.as_tensor(os_pre, dtype = torch.float), torch.as_tensor(os_tar, dtype = torch.float))\n",
        "  loss = (5 * lbox + lobj + lclas)\n",
        "  return loss.float()"
      ],
      "execution_count": 23,
      "outputs": []
    },
    {
      "cell_type": "code",
      "metadata": {
        "id": "xtsPnCXvu3LO"
      },
      "source": [
        "def box_for_loss(box, grid):\n",
        "  \"\"\"\n",
        "  tranform the box in the groundtruth to the detection\n",
        "  \"\"\"\n",
        "  new_box = box.clone()\n",
        "  new_width = new_box[0] * 7\n",
        "  new_height = new_box[1] *7\n",
        "  new_box[0] = new_width - int(new_width)\n",
        "  new_box[1] = new_height - int(new_height) \n",
        "\n",
        "  return new_box"
      ],
      "execution_count": 24,
      "outputs": []
    },
    {
      "cell_type": "code",
      "metadata": {
        "id": "3yyvVDpNdLT8"
      },
      "source": [
        "# for g in optimizer.param_groups:\n",
        "#   print(g['lr'])"
      ],
      "execution_count": 25,
      "outputs": []
    },
    {
      "cell_type": "markdown",
      "metadata": {
        "id": "2yR2oaLgxqH-"
      },
      "source": [
        "# **Train**"
      ]
    },
    {
      "cell_type": "code",
      "metadata": {
        "id": "e5eKngUwhHpo"
      },
      "source": [
        "Darknet = Darknetbase('yolov1-tiny.cfg.1', use_fc = False)\n",
        "Darknet._initialize_weights()\n",
        "model = YOLOV1tiny('yolov1-tiny.cfg.1', Darknet.features)"
      ],
      "execution_count": 49,
      "outputs": []
    },
    {
      "cell_type": "code",
      "metadata": {
        "colab": {
          "base_uri": "https://localhost:8080/",
          "height": 762
        },
        "id": "CnIaKR6nWSWg",
        "outputId": "0dcce645-7325-4869-d45f-405e58727916"
      },
      "source": [
        "import gc\n",
        "\n",
        "gc.collect()\n",
        "\n",
        "torch.cuda.empty_cache()\n",
        "#get grid_size, num_box, num_classes\n",
        "grid_size = model.grid_size\n",
        "num_box = model.num_box\n",
        "num_classes = model.num_classes\n",
        "inp_dims = model.inp_dims\n",
        "optimizer = torch.optim.SGD(model.parameters(), lr= 0.001, momentum=0.9, weight_decay=0.0005)\n",
        "# optimizer = torch.optim.Adam(model.parameters(), lr =0.001, weight_decay = 0.0005, amsgrad=True)\n",
        "scheduler_epoch = torch.optim.lr_scheduler.MultiStepLR(optimizer, milestones=[76,105,135], gamma=0.1)\n",
        "scheduler_batch = torch.optim.lr_scheduler.StepLR(optimizer, step_size=5, gamma=10**(1./8.))\n",
        "\n",
        "epoches = 135\n",
        "index = 6\n",
        "len_dataset = len(dataset)\n",
        "\n",
        "#load_checkpoint\n",
        "checkpoint = torch.load('model.weight5')\n",
        "model.load_state_dict(checkpoint['model_state_dict'])\n",
        "optimizer.load_state_dict(checkpoint['optimizer_state_dict'])\n",
        "scheduler_epoch.load_state_dict(checkpoint['scheduler'])\n",
        "loss_epoch = checkpoint['loss'] * len_dataset\n",
        "epoch_ini = checkpoint['epoch']\n",
        "\n",
        "for epoch in range(epoch_ini,epoches):\n",
        "  loss_epoch = 0\n",
        "  for i, (image, label) in enumerate(train_loader):\n",
        "    model.train()\n",
        "    image = Variable(image)\n",
        "    pre = model(image,  device)\n",
        "    loss = loss_functionv1(pre, label, inp_dims, grid_size, num_classes, num_box)\n",
        "    loss_epoch += loss\n",
        "\n",
        "    # Backward and optimize\n",
        "    optimizer.zero_grad()\n",
        "    loss.backward()\n",
        "    optimizer.step()\n",
        "    if epoch == 0:\n",
        "      scheduler_batch.step()\n",
        "\n",
        "  scheduler_epoch.step()\n",
        "\n",
        "  #save check point\n",
        "  if epoch % 10 == 0 and epoch != 0:\n",
        "    torch.save({\n",
        "        'epoch': epoch,\n",
        "        'model_state_dict': model.state_dict(),\n",
        "        'optimizer_state_dict': optimizer.state_dict(),\n",
        "        'scheduler': scheduler_epoch.state_dict(),\n",
        "        'loss': loss_epoch/len_dataset,\n",
        "            }, 'model.weight{}'.format(index))\n",
        "    index += 1\n",
        "  \n",
        "  print('Epoch[{}]: {:.7f}'.format(epoch, loss_epoch/len_dataset))"
      ],
      "execution_count": 59,
      "outputs": [
        {
          "output_type": "error",
          "ename": "KeyError",
          "evalue": "ignored",
          "traceback": [
            "\u001b[0;31m---------------------------------------------------------------------------\u001b[0m",
            "\u001b[0;31mKeyError\u001b[0m                                  Traceback (most recent call last)",
            "\u001b[0;32m<ipython-input-59-206632a26169>\u001b[0m in \u001b[0;36m<module>\u001b[0;34m()\u001b[0m\n\u001b[1;32m     38\u001b[0m     \u001b[0moptimizer\u001b[0m\u001b[0;34m.\u001b[0m\u001b[0mzero_grad\u001b[0m\u001b[0;34m(\u001b[0m\u001b[0;34m)\u001b[0m\u001b[0;34m\u001b[0m\u001b[0;34m\u001b[0m\u001b[0m\n\u001b[1;32m     39\u001b[0m     \u001b[0mloss\u001b[0m\u001b[0;34m.\u001b[0m\u001b[0mbackward\u001b[0m\u001b[0;34m(\u001b[0m\u001b[0;34m)\u001b[0m\u001b[0;34m\u001b[0m\u001b[0;34m\u001b[0m\u001b[0m\n\u001b[0;32m---> 40\u001b[0;31m     \u001b[0moptimizer\u001b[0m\u001b[0;34m.\u001b[0m\u001b[0mstep\u001b[0m\u001b[0;34m(\u001b[0m\u001b[0;34m)\u001b[0m\u001b[0;34m\u001b[0m\u001b[0;34m\u001b[0m\u001b[0m\n\u001b[0m\u001b[1;32m     41\u001b[0m     \u001b[0;32mif\u001b[0m \u001b[0mepoch\u001b[0m \u001b[0;34m==\u001b[0m \u001b[0;36m0\u001b[0m\u001b[0;34m:\u001b[0m\u001b[0;34m\u001b[0m\u001b[0;34m\u001b[0m\u001b[0m\n\u001b[1;32m     42\u001b[0m       \u001b[0mscheduler_batch\u001b[0m\u001b[0;34m.\u001b[0m\u001b[0mstep\u001b[0m\u001b[0;34m(\u001b[0m\u001b[0;34m)\u001b[0m\u001b[0;34m\u001b[0m\u001b[0;34m\u001b[0m\u001b[0m\n",
            "\u001b[0;32m/usr/local/lib/python3.7/dist-packages/torch/optim/lr_scheduler.py\u001b[0m in \u001b[0;36mwrapper\u001b[0;34m(*args, **kwargs)\u001b[0m\n\u001b[1;32m     63\u001b[0m                 \u001b[0minstance\u001b[0m\u001b[0;34m.\u001b[0m\u001b[0m_step_count\u001b[0m \u001b[0;34m+=\u001b[0m \u001b[0;36m1\u001b[0m\u001b[0;34m\u001b[0m\u001b[0;34m\u001b[0m\u001b[0m\n\u001b[1;32m     64\u001b[0m                 \u001b[0mwrapped\u001b[0m \u001b[0;34m=\u001b[0m \u001b[0mfunc\u001b[0m\u001b[0;34m.\u001b[0m\u001b[0m__get__\u001b[0m\u001b[0;34m(\u001b[0m\u001b[0minstance\u001b[0m\u001b[0;34m,\u001b[0m \u001b[0mcls\u001b[0m\u001b[0;34m)\u001b[0m\u001b[0;34m\u001b[0m\u001b[0;34m\u001b[0m\u001b[0m\n\u001b[0;32m---> 65\u001b[0;31m                 \u001b[0;32mreturn\u001b[0m \u001b[0mwrapped\u001b[0m\u001b[0;34m(\u001b[0m\u001b[0;34m*\u001b[0m\u001b[0margs\u001b[0m\u001b[0;34m,\u001b[0m \u001b[0;34m**\u001b[0m\u001b[0mkwargs\u001b[0m\u001b[0;34m)\u001b[0m\u001b[0;34m\u001b[0m\u001b[0;34m\u001b[0m\u001b[0m\n\u001b[0m\u001b[1;32m     66\u001b[0m \u001b[0;34m\u001b[0m\u001b[0m\n\u001b[1;32m     67\u001b[0m             \u001b[0;31m# Note that the returned function here is no longer a bound method,\u001b[0m\u001b[0;34m\u001b[0m\u001b[0;34m\u001b[0m\u001b[0;34m\u001b[0m\u001b[0m\n",
            "\u001b[0;32m/usr/local/lib/python3.7/dist-packages/torch/optim/optimizer.py\u001b[0m in \u001b[0;36mwrapper\u001b[0;34m(*args, **kwargs)\u001b[0m\n\u001b[1;32m     86\u001b[0m                 \u001b[0mprofile_name\u001b[0m \u001b[0;34m=\u001b[0m \u001b[0;34m\"Optimizer.step#{}.step\"\u001b[0m\u001b[0;34m.\u001b[0m\u001b[0mformat\u001b[0m\u001b[0;34m(\u001b[0m\u001b[0mobj\u001b[0m\u001b[0;34m.\u001b[0m\u001b[0m__class__\u001b[0m\u001b[0;34m.\u001b[0m\u001b[0m__name__\u001b[0m\u001b[0;34m)\u001b[0m\u001b[0;34m\u001b[0m\u001b[0;34m\u001b[0m\u001b[0m\n\u001b[1;32m     87\u001b[0m                 \u001b[0;32mwith\u001b[0m \u001b[0mtorch\u001b[0m\u001b[0;34m.\u001b[0m\u001b[0mautograd\u001b[0m\u001b[0;34m.\u001b[0m\u001b[0mprofiler\u001b[0m\u001b[0;34m.\u001b[0m\u001b[0mrecord_function\u001b[0m\u001b[0;34m(\u001b[0m\u001b[0mprofile_name\u001b[0m\u001b[0;34m)\u001b[0m\u001b[0;34m:\u001b[0m\u001b[0;34m\u001b[0m\u001b[0;34m\u001b[0m\u001b[0m\n\u001b[0;32m---> 88\u001b[0;31m                     \u001b[0;32mreturn\u001b[0m \u001b[0mfunc\u001b[0m\u001b[0;34m(\u001b[0m\u001b[0;34m*\u001b[0m\u001b[0margs\u001b[0m\u001b[0;34m,\u001b[0m \u001b[0;34m**\u001b[0m\u001b[0mkwargs\u001b[0m\u001b[0;34m)\u001b[0m\u001b[0;34m\u001b[0m\u001b[0;34m\u001b[0m\u001b[0m\n\u001b[0m\u001b[1;32m     89\u001b[0m             \u001b[0;32mreturn\u001b[0m \u001b[0mwrapper\u001b[0m\u001b[0;34m\u001b[0m\u001b[0;34m\u001b[0m\u001b[0m\n\u001b[1;32m     90\u001b[0m \u001b[0;34m\u001b[0m\u001b[0m\n",
            "\u001b[0;32m/usr/local/lib/python3.7/dist-packages/torch/autograd/grad_mode.py\u001b[0m in \u001b[0;36mdecorate_context\u001b[0;34m(*args, **kwargs)\u001b[0m\n\u001b[1;32m     26\u001b[0m         \u001b[0;32mdef\u001b[0m \u001b[0mdecorate_context\u001b[0m\u001b[0;34m(\u001b[0m\u001b[0;34m*\u001b[0m\u001b[0margs\u001b[0m\u001b[0;34m,\u001b[0m \u001b[0;34m**\u001b[0m\u001b[0mkwargs\u001b[0m\u001b[0;34m)\u001b[0m\u001b[0;34m:\u001b[0m\u001b[0;34m\u001b[0m\u001b[0;34m\u001b[0m\u001b[0m\n\u001b[1;32m     27\u001b[0m             \u001b[0;32mwith\u001b[0m \u001b[0mself\u001b[0m\u001b[0;34m.\u001b[0m\u001b[0m__class__\u001b[0m\u001b[0;34m(\u001b[0m\u001b[0;34m)\u001b[0m\u001b[0;34m:\u001b[0m\u001b[0;34m\u001b[0m\u001b[0;34m\u001b[0m\u001b[0m\n\u001b[0;32m---> 28\u001b[0;31m                 \u001b[0;32mreturn\u001b[0m \u001b[0mfunc\u001b[0m\u001b[0;34m(\u001b[0m\u001b[0;34m*\u001b[0m\u001b[0margs\u001b[0m\u001b[0;34m,\u001b[0m \u001b[0;34m**\u001b[0m\u001b[0mkwargs\u001b[0m\u001b[0;34m)\u001b[0m\u001b[0;34m\u001b[0m\u001b[0;34m\u001b[0m\u001b[0m\n\u001b[0m\u001b[1;32m     29\u001b[0m         \u001b[0;32mreturn\u001b[0m \u001b[0mcast\u001b[0m\u001b[0;34m(\u001b[0m\u001b[0mF\u001b[0m\u001b[0;34m,\u001b[0m \u001b[0mdecorate_context\u001b[0m\u001b[0;34m)\u001b[0m\u001b[0;34m\u001b[0m\u001b[0;34m\u001b[0m\u001b[0m\n\u001b[1;32m     30\u001b[0m \u001b[0;34m\u001b[0m\u001b[0m\n",
            "\u001b[0;32m/usr/local/lib/python3.7/dist-packages/torch/optim/sgd.py\u001b[0m in \u001b[0;36mstep\u001b[0;34m(self, closure)\u001b[0m\n\u001b[1;32m     92\u001b[0m             \u001b[0mmomentum_buffer_list\u001b[0m \u001b[0;34m=\u001b[0m \u001b[0;34m[\u001b[0m\u001b[0;34m]\u001b[0m\u001b[0;34m\u001b[0m\u001b[0;34m\u001b[0m\u001b[0m\n\u001b[1;32m     93\u001b[0m             \u001b[0mweight_decay\u001b[0m \u001b[0;34m=\u001b[0m \u001b[0mgroup\u001b[0m\u001b[0;34m[\u001b[0m\u001b[0;34m'weight_decay'\u001b[0m\u001b[0;34m]\u001b[0m\u001b[0;34m\u001b[0m\u001b[0;34m\u001b[0m\u001b[0m\n\u001b[0;32m---> 94\u001b[0;31m             \u001b[0mmomentum\u001b[0m \u001b[0;34m=\u001b[0m \u001b[0mgroup\u001b[0m\u001b[0;34m[\u001b[0m\u001b[0;34m'momentum'\u001b[0m\u001b[0;34m]\u001b[0m\u001b[0;34m\u001b[0m\u001b[0;34m\u001b[0m\u001b[0m\n\u001b[0m\u001b[1;32m     95\u001b[0m             \u001b[0mdampening\u001b[0m \u001b[0;34m=\u001b[0m \u001b[0mgroup\u001b[0m\u001b[0;34m[\u001b[0m\u001b[0;34m'dampening'\u001b[0m\u001b[0;34m]\u001b[0m\u001b[0;34m\u001b[0m\u001b[0;34m\u001b[0m\u001b[0m\n\u001b[1;32m     96\u001b[0m             \u001b[0mnesterov\u001b[0m \u001b[0;34m=\u001b[0m \u001b[0mgroup\u001b[0m\u001b[0;34m[\u001b[0m\u001b[0;34m'nesterov'\u001b[0m\u001b[0;34m]\u001b[0m\u001b[0;34m\u001b[0m\u001b[0;34m\u001b[0m\u001b[0m\n",
            "\u001b[0;31mKeyError\u001b[0m: 'momentum'"
          ]
        }
      ]
    },
    {
      "cell_type": "code",
      "metadata": {
        "colab": {
          "base_uri": "https://localhost:8080/"
        },
        "id": "H2XseExAJLf8",
        "outputId": "6269931c-0748-41bb-9721-4f7680f60231"
      },
      "source": [
        "epoch"
      ],
      "execution_count": 55,
      "outputs": [
        {
          "output_type": "execute_result",
          "data": {
            "text/plain": [
              "51"
            ]
          },
          "metadata": {
            "tags": []
          },
          "execution_count": 55
        }
      ]
    },
    {
      "cell_type": "code",
      "metadata": {
        "id": "0vlxKJhdeoeQ"
      },
      "source": [
        "# torch.save(model.state_dict, 'model_weight1')\n",
        "frame[1]"
      ],
      "execution_count": null,
      "outputs": []
    },
    {
      "cell_type": "code",
      "metadata": {
        "id": "l90A9-vV6ooY"
      },
      "source": [
        "img = dataset[0][0].unsqueeze(0)\n",
        "# inp_dim = 448\n",
        "# w, h = img.shape[1], img.shape[0]\n",
        "# if h > w:\n",
        "#   h_new = inp_dim\n",
        "#   w_new = int(w * inp_dim/h)\n",
        "#   img = cv2.resize(img, (w_new, h_new))\n",
        "#   img = cv2.copyMakeBorder(img, 0,0,(448 - w_new)//2, (448 - w_new)//2, cv2.BORDER_CONSTANT, (128,128,128))\n",
        "# else:\n",
        "#   w_new = inp_dim\n",
        "#   h_new = int(h * inp_dim/w)\n",
        "#   img = cv2.resize(img, (w_new, h_new))\n",
        "#   img = cv2.copyMakeBorder(img, (448 - h_new)//2, (448 - h_new)//2, 0, 0, cv2.BORDER_CONSTANT, (128,128,128))\n",
        "# img =  img[:,:,::-1].transpose((2,0,1)) \n",
        "# img = img[np.newaxis,:,:,:]/255.0       \n",
        "# img = torch.from_numpy(img).float() \n",
        "img = frame[0]\n",
        "import gc\n",
        "\n",
        "gc.collect()\n",
        "\n",
        "torch.cuda.empty_cache()\n",
        "pre = model(img, device)\n",
        "print(pre.size())\n",
        "target = frame[1]\n",
        "loss_functionv1(pre, target, 448, 7, 20, 2)\n"
      ],
      "execution_count": null,
      "outputs": []
    },
    {
      "cell_type": "markdown",
      "metadata": {
        "id": "rOC8saItxvv5"
      },
      "source": [
        "# **Detection**"
      ]
    },
    {
      "cell_type": "code",
      "metadata": {
        "id": "2RS019-UrQWL"
      },
      "source": [
        "def write_result(pre):\n",
        "  #transform the detection\n",
        "  num_classes = 20\n",
        "  grid_size = 7\n",
        "  num_grid = grid_size * grid_size\n",
        "  num_box = 2\n",
        "  batch_size = pre.size(0)\n",
        "\n",
        "  pre = pre.view(batch_size, -1, num_grid)\n",
        "  pre = pre.transpose(2,1).contiguous() # bx49x30\n",
        "  # score1 = pre[:,:,4].unsqueeze(2).repeat(1,1,num_classes)\n",
        "  # score2 = pre[:,:,9].unsqueeze(2).repeat(1,1,num_classes)\n",
        "  score1 = 1\n",
        "  score2 = 1\n",
        "  box1 = torch.cat((pre[:,:,:5], pre[:,:,10:] * score1), 2)\n",
        "  box2 = torch.cat((pre[:,:,5:10], pre[:,:,10:] * score2), 2)\n",
        "  prediction = torch.cat((box1, box2), 2).view(-1, num_grid * num_box, 5 + num_classes)\n",
        "  # print(prediction.size())\n",
        "  # print(prediction[:,0])\n",
        "  is_output_created = False\n",
        "\n",
        "  for i in range(batch_size):\n",
        "    image_tensor = prediction[i,:,:] #batch x 98 x 10\n",
        "    max_class = torch.max(image_tensor[:, 5:], 1) #(value, index)\n",
        "    seq = image_tensor[:, :5], max_class[0].float().unsqueeze(1),  max_class[1].float().unsqueeze(1)\n",
        "    image_tensor = torch.cat(seq,1) #size(98,7)\n",
        "    zero = torch.zeros(image_tensor[:, 0].size()).to(device)\n",
        "    image_tensor[:,4] = torch.where(image_tensor[:,4] > .1, image_tensor[:,0], zero)\n",
        "    index_not_zero = torch.nonzero(image_tensor[:, 4])\n",
        "    image_tensor_pre = image_tensor[index_not_zero.squeeze(),:].view(-1,7)\n",
        "\n",
        "    image_tensor_pre_index = torchvision.ops.batched_nms(image_tensor_pre[:, 1:5], \n",
        "                                                       image_tensor_pre[:, 0], image_tensor_pre[:,-1],\n",
        "                                                       0.5)\n",
        "\n",
        "    image_tensor_pre = image_tensor_pre[image_tensor_pre_index, :].view(-1,7)\n",
        "\n",
        "    if not is_output_created:\n",
        "      output = image_tensor_pre\n",
        "      is_output_created = True\n",
        "    else:\n",
        "      output = torch.cat((output, image_tensor_pre),1)\n",
        "    \n",
        "    try:\n",
        "      return output\n",
        "    except:\n",
        "      return 0"
      ],
      "execution_count": 52,
      "outputs": []
    },
    {
      "cell_type": "code",
      "metadata": {
        "id": "RJ2CxagqnPDK",
        "colab": {
          "base_uri": "https://localhost:8080/",
          "height": 305
        },
        "outputId": "771bcba9-bc9b-4ba8-f9e5-e3739c0cd3a5"
      },
      "source": [
        "model.eval()\n",
        "img = cv2.imread('sample_dog.jpg')\n",
        "inp_dim = 448\n",
        "w, h = img.shape[1], img.shape[0]\n",
        "if h > w:\n",
        "  h_new = inp_dim\n",
        "  w_new = int(w * inp_dim/h)\n",
        "  img = cv2.resize(img, (w_new, h_new))\n",
        "  img = cv2.copyMakeBorder(img, 0,0,(448 - w_new)//2, (448 - w_new)//2, cv2.BORDER_CONSTANT, (128,128,128))\n",
        "else:\n",
        "  w_new = inp_dim\n",
        "  h_new = int(h * inp_dim/w)\n",
        "  img = cv2.resize(img, (w_new, h_new))\n",
        "  img = cv2.copyMakeBorder(img, (448 - h_new)//2, (448 - h_new)//2, 0, 0, cv2.BORDER_CONSTANT, (128,128,128))\n",
        "img =  img[:,:,::-1].transpose((2,0,1)) \n",
        "img = img[np.newaxis,:,:,:]/255.0       \n",
        "img = torch.from_numpy(img).float()     \n",
        "pre = model(img, 'cpu')\n",
        "img_attri = write_result(pre)\n",
        "print(img_attri)\n",
        "img = img.squeeze(0)\n",
        "img = img.numpy()\n",
        "img = np.ascontiguousarray(np.transpose(img, (1,2,0))) \n",
        "# for i in range(img_attri.size(0)):\n",
        "#   attri = img_attri[i]\n",
        "#   label = \"{0}\".format(attri[0])\n",
        "#   box = attri[1:]\n",
        "#   box *= 448\n",
        "#   box = torchvision.ops.box_convert(box, 'cxcywh', 'xyxy')\n",
        "#   box = box.numpy()\n",
        "#   xmin ,ymin, xmax, ymax = box\n",
        "#   #bug issues: rectangle return Umat type if np.array is not contiguous \n",
        "#   img = cv2.rectangle(img, (int(xmin), int(ymin)), (int(xmax), int(ymax)), (255,0,255), 3)\n",
        "#   t_size = cv2.getTextSize(label, cv2.FONT_HERSHEY_PLAIN, 1, 1)[0]\n",
        "#   img = cv2.rectangle(img, (int(xmin), int(ymin)), (int(xmin)+ t_size[0] + 3, int(ymin) +t_size[1] + 4)\n",
        "#                                 ,(255,0,0), 1)\n",
        "#   img = cv2.putText(img, label, (int(xmin), int(ymin) + t_size[1] + 4), \n",
        "#                               cv2.FONT_HERSHEY_PLAIN, 1, [225,255,255], 2)\n",
        "plt.imshow(img)"
      ],
      "execution_count": 54,
      "outputs": [
        {
          "output_type": "stream",
          "text": [
            "tensor([], device='cuda:0', size=(0, 7), grad_fn=<ViewBackward>)\n"
          ],
          "name": "stdout"
        },
        {
          "output_type": "execute_result",
          "data": {
            "text/plain": [
              "<matplotlib.image.AxesImage at 0x7f1463d9e210>"
            ]
          },
          "metadata": {
            "tags": []
          },
          "execution_count": 54
        },
        {
          "output_type": "display_data",
          "data": {
            "image/png": "[encoded data removed]",
            "text/plain": [
              "<Figure size 432x288 with 1 Axes>"
            ]
          },
          "metadata": {
            "tags": [],
            "needs_background": "light"
          }
        }
      ]
    },
    {
      "cell_type": "code",
      "metadata": {
        "id": "kcRR01XwJDfP"
      },
      "source": [
        "# def building_models_yolo_tiny(blocks):\n",
        "#     # building model from block \n",
        "#     # parameters = blocks \n",
        "    \n",
        "#     #model info\n",
        "#     net_info = blocks[0]\n",
        "#     list_module = nn.ModuleList()\n",
        "#     input_size = 3\n",
        "#     output_filters = []\n",
        "#     is_first_connected_layer = True\n",
        "#     for i, block in enumerate(blocks[2:]):\n",
        "#         module = nn.Sequential() #convol module can have a lot of layer\n",
        "#         #convolutional layer\n",
        "#         if block['type'] == 'convolutional':\n",
        "#             # arguments for conv2d\n",
        "#             output_size = int(block['filters'])\n",
        "#             kernel_size = int(block['size'])\n",
        "#             stride = int(block['stride'])\n",
        "#             pad = int(block['pad'])\n",
        "#             if pad:\n",
        "#                 padding = (kernel_size - 1) // 2\n",
        "#             else:\n",
        "#                 padding = 0\n",
        "#             conv = nn.Conv2d(input_size, output_size, kernel_size = kernel_size, stride = stride, padding = padding,\n",
        "#                             bias = True)\n",
        "#             module.add_module('conv_{}'.format(i), conv)\n",
        "                      \n",
        "#             #perform activation function\n",
        "#             activation_func = block['activation']\n",
        "#             if activation_func == 'leaky':\n",
        "#                 leaky = nn.LeakyReLU(0.1, inplace = True)\n",
        "#                 module.add_module('leaky_{}'.format(i), leaky)\n",
        "        \n",
        "#         #maxpool\n",
        "#         elif block['type'] == 'maxpool':\n",
        "#             stride = int(block['stride'])\n",
        "#             size = int(block['size'])\n",
        "#             maxpool = nn.MaxPool2d(size, stride=stride)\n",
        "#             module.add_module('maxpool_{}'.format(i), maxpool)\n",
        "        \n",
        "        \n",
        "#         #dropout\n",
        "#         elif block['type'] == 'dropout':\n",
        "#             prob = float(block['probability'])\n",
        "#             dropout = nn.Dropout2d(prob)\n",
        "#             module.add_module('dropout_{}'.format(i), dropout)\n",
        "        \n",
        "#         #connected\n",
        "#         elif block['type'] == 'connected':\n",
        "#           output_size = int(block['output'])\n",
        "#           if is_first_connected_layer:\n",
        "#             flatten = nn.Flatten()\n",
        "#             module.add_module('flatten_{}'.format(i), flatten)\n",
        "#             input_size *= 49\n",
        "#             is_first_connected_layer = False\n",
        "          \n",
        "#           activation_func = block['activation']\n",
        "#           fc = nn.Linear(input_size, output_size)\n",
        "#           module.add_module('fc_{}'.format(i), fc)\n",
        "#           if activation_func == 'leaky':\n",
        "#                 leaky = nn.LeakyReLU(0.1, inplace = True)\n",
        "#                 module.add_module('leaky_{}'.format(i), leaky)\n",
        "          \n",
        "\n",
        "#         # elif block['type'] == 'local':\n",
        "#         #   output_size = int(block['filters'])\n",
        "#         #   local_convolutional = EmptyLayer()\n",
        "#         #   module.add_module('local_{}'.format(i), local_convolutional)\n",
        "        \n",
        "#         elif block['type'] == 'detection':\n",
        "#             detection =  EmptyLayer()\n",
        "#             module.add_module(\"Detection_{}\".format(i), detection)\n",
        "        \n",
        "#         elif block['type'] == 'crop':\n",
        "#           continue\n",
        "        \n",
        "#         output_filters.append(output_size)\n",
        "#         list_module.append(module)\n",
        "#         input_size = output_size\n",
        "#     return (net_info, list_module)\n",
        "\n",
        "\n",
        "# class EmptyLayer(nn.Module):\n",
        "#     def __init__(self):\n",
        "#         super(EmptyLayer, self).__init__()"
      ],
      "execution_count": null,
      "outputs": []
    },
    {
      "cell_type": "code",
      "metadata": {
        "id": "_iJKfPEcjHLw"
      },
      "source": [
        "# class YOLOV1tiny(nn.Module):\n",
        "#   def __init__(self, file):\n",
        "#       super(YOLOV1tiny, self).__init__()\n",
        "#       self.blocks = parsefile(file)\n",
        "#       self.net_info, self.module_list = building_models(self.blocks)\n",
        "      \n",
        "#       self.inp_dims = int(self.net_info['height'])\n",
        "#       detection_layer = self.blocks[-1]\n",
        "#       self.grid_size = int(detection_layer['side'])\n",
        "#       self.num_classes = int(detection_layer['classes'])\n",
        "#       self.num_box = int(detection_layer['num'])\n",
        "      \n",
        "#       self.float()\n",
        "  \n",
        "#   def forward(self, x, CUDA):\n",
        "    \n",
        "#     # the first one is net and second one is crop\n",
        "#     for i, module in enumerate(self.blocks[2:]):\n",
        "#       module_type = module['type']\n",
        "#       if module_type == 'detection':\n",
        "#         batch_size = x.size(0)\n",
        "#         detection = x.view(batch_size, self.num_box * 5 + self.num_classes, self.grid_size, self.grid_size)\n",
        "#       else:\n",
        "#          x = self.module_list[i](x)\n",
        "#     return detection\n",
        "  \n",
        "\n",
        "#   def load_weight(self, weightfile):\n",
        "#         with open (weightfile, 'rb') as file:\n",
        "#             #read the head first which include 5 32-int values\n",
        "#             # information about the head file @@\n",
        "#             header = np.fromfile(file, dtype = np.float32, count = 4)\n",
        "\n",
        "            \n",
        "#             #the rest is the weight of the model\n",
        "#             weights = np.fromfile(file, dtype = np.float32)\n",
        "#             is_first_connected_layer = True\n",
        "            \n",
        "#             modules = self.blocks[2:]\n",
        "#             pr = 0\n",
        "#             for i,module in enumerate(modules):\n",
        "#                 module_type = module['type']\n",
        "#                 if module_type == 'convolutional':\n",
        "#                     model = self.module_list[i]\n",
        "                    \n",
        "#                     conv_layer = model[0]\n",
        "                    \n",
        "#                     #load the bias for conv\n",
        "#                     layer_size = conv_layer.bias.numel()\n",
        "#                     bias = torch.from_numpy(weights[pr:pr + layer_size]).view_as(conv_layer.bias)\n",
        "#                     conv_layer.bias.data.copy_(bias)\n",
        "#                     pr += layer_size\n",
        "                    \n",
        "#                     # load weight file for conv\n",
        "#                     num_weight = conv_layer.weight.numel()\n",
        "#                     weight = torch.from_numpy(weights[pr:pr + num_weight]).view_as(conv_layer.weight)\n",
        "#                     conv_layer.weight.data.copy_(weight)\n",
        "#                     pr += num_weight\n",
        "                \n",
        "#                 elif module_type == 'connected':\n",
        "#                   model = self.module_list[i]\n",
        "#                   if is_first_connected_layer:\n",
        "#                     fc_layer = model[1]\n",
        "#                     is_first_connected_layer = False\n",
        "#                   else:\n",
        "#                     fc_layer = model[0]\n",
        "                  \n",
        "#                   num_bias = fc_layer.bias.numel()\n",
        "#                   bias = torch.from_numpy(weights[pr:pr + num_bias]).view_as(fc_layer.bias)\n",
        "#                   fc_layer.bias.data.copy_(bias)\n",
        "#                   pr += num_bias\n",
        "\n",
        "#                   num_weight = fc_layer.weight.numel()\n",
        "#                   weight = torch.from_numpy(weights[pr:pr + num_weight]).view_as(fc_layer.weight)\n",
        "#                   pr += num_weight\n",
        "#             print(weights[pr:])\n",
        "\n",
        "\n",
        "#   # def load_pretrain_weight(self, weightfile):\n",
        "#   #   with open (weightfile, 'rb') as file:\n",
        "#   #           #read the head first which include 5 32-int values\n",
        "#   #           # information about the head file @@\n",
        "#   #           header = np.fromfile(file, dtype = np.int32, count = 4)\n",
        "#   #           self.header = torch.from_numpy(header)\n",
        "#   #           self.seen = self.header[2] #number of images seen by the network during training\n",
        "            \n",
        "#   #           #the rest is the weight of the model\n",
        "#   #           weights = np.fromfile(file, dtype = np.float32)\n",
        "            \n",
        "#   #           modules = self.blocks[2:]\n",
        "#   #           pr = 0\n",
        "#   #           for i,module in enumerate(modules):\n",
        "#   #               module_type = module['type']\n",
        "#   #               if module_type == 'convolutional':\n",
        "#   #                   model = self.module_list[i]\n",
        "\n",
        "#   #                   #check if there is a batchnorm\n",
        "#   #                   try:\n",
        "#   #                       batch_norm = int(module['batch_normalize'])\n",
        "#   #                   except:\n",
        "#   #                       batch_norm = 0\n",
        "                    \n",
        "#   #                   conv_layer = model[0]\n",
        "#   #                   # weight for batch_normalisation include : bias, weight, running means and running vals\n",
        "#   #                   if batch_norm:\n",
        "#   #                       batch_layer = model[1]\n",
        "#   #                       layer_size = batch_layer.bias.numel()\n",
        "                        \n",
        "#   #                       #bias \n",
        "#   #                       bias = torch.from_numpy(weights[pr:pr + layer_size]).view_as(batch_layer.bias)\n",
        "#   #                       batch_layer.bias.data.copy_(bias)\n",
        "#   #                       pr += layer_size\n",
        "                        \n",
        "#   #                       #weight\n",
        "#   #                       weight = torch.from_numpy(weights[pr:pr + layer_size]).view_as(batch_layer.weight)\n",
        "#   #                       batch_layer.weight.data.copy_(weight)\n",
        "#   #                       pr += layer_size\n",
        "                        \n",
        "#   #                       #running_mean\n",
        "#   #                       mean = torch.from_numpy(weights[pr:pr + layer_size]).view_as(batch_layer.running_mean)\n",
        "#   #                       batch_layer.running_mean.copy_(mean)\n",
        "#   #                       pr += layer_size\n",
        "                        \n",
        "#   #                       #running_val\n",
        "#   #                       var = torch.from_numpy(weights[pr:pr + layer_size]).view_as(batch_layer.running_var)\n",
        "#   #                       batch_layer.running_var.data.copy_(var)\n",
        "#   #                       pr += layer_size\n",
        "#   #                   else:\n",
        "#   #                       #load the bias for conv\n",
        "#   #                       layer_size = conv_layer.bias.numel()\n",
        "#   #                       bias = torch.from_numpy(weights[pr:pr + layer_size]).view_as(conv_layer.bias)\n",
        "#   #                       conv_layer.bias.data.copy_(bias)\n",
        "#   #                       pr += layer_size\n",
        "                    \n",
        "#   #                   # load weight file for conv\n",
        "#   #                   num_weight = conv_layer.weight.numel()\n",
        "#   #                   weight = torch.from_numpy(weights[pr:pr + num_weight]).view_as(conv_layer.weight)\n",
        "#   #                   conv_layer.weight.data.copy_(weight)\n",
        "#   #                   pr += num_weight\n",
        "#   #               elif module_type == 'connected':\n",
        "#   #                 #initialize the weight for the connected layer\n",
        "#   #                 model = self.module_list[i]\n",
        "#   #                 fc_layer = model[1]\n",
        "                  \n",
        "#   #                 num_bias = fc_layer.bias.numel()\n",
        "#   #                 bias = torch.rand((fc_layer.bias.size()), requires_grad=True)\n",
        "#   #                 fc_layer.bias.data.copy_(bias)\n",
        "\n",
        "#   #                 num_weight = fc_layer.weight.numel()\n",
        "#   #                 weight = torch.rand((fc_layer.weight.size()), requires_grad=True)"
      ],
      "execution_count": null,
      "outputs": []
    }
  ]
}